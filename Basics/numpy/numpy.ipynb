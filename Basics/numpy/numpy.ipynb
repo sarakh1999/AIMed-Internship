{
 "cells": [
  {
   "cell_type": "code",
   "execution_count": 1,
   "metadata": {
    "id": "mxagwtTsGnGF"
   },
   "outputs": [],
   "source": [
    "import numpy as np\n",
    "import pandas as pd\n",
    "import matplotlib.pyplot as plt"
   ]
  },
  {
   "cell_type": "markdown",
   "metadata": {
    "id": "ZDgHY0JPJ3z9"
   },
   "source": [
    "1. read array from text\n",
    "2. save as npy\n",
    "3. read from npy"
   ]
  },
  {
   "cell_type": "code",
   "execution_count": 16,
   "metadata": {
    "id": "VO4_RCQtxEPn"
   },
   "outputs": [],
   "source": [
    "text_path = './iris.data'"
   ]
  },
  {
   "cell_type": "code",
   "execution_count": 51,
   "metadata": {},
   "outputs": [
    {
     "name": "stdout",
     "output_type": "stream",
     "text": [
      "       0    1    2    3               4\n",
      "0    5.1  3.5  1.4  0.2     Iris-setosa\n",
      "1    4.9  3.0  1.4  0.2     Iris-setosa\n",
      "2    4.7  3.2  1.3  0.2     Iris-setosa\n",
      "3    4.6  3.1  1.5  0.2     Iris-setosa\n",
      "4    5.0  3.6  1.4  0.2     Iris-setosa\n",
      "..   ...  ...  ...  ...             ...\n",
      "145  6.7  3.0  5.2  2.3  Iris-virginica\n",
      "146  6.3  2.5  5.0  1.9  Iris-virginica\n",
      "147  6.5  3.0  5.2  2.0  Iris-virginica\n",
      "148  6.2  3.4  5.4  2.3  Iris-virginica\n",
      "149  5.9  3.0  5.1  1.8  Iris-virginica\n",
      "\n",
      "[150 rows x 5 columns]\n"
     ]
    },
    {
     "data": {
      "text/plain": [
       "(150, 5)"
      ]
     },
     "execution_count": 51,
     "metadata": {},
     "output_type": "execute_result"
    }
   ],
   "source": [
    "data = pd.read_csv(text_path, sep=\",\", header= None)\n",
    "print(data)\n",
    "data.shape"
   ]
  },
  {
   "cell_type": "code",
   "execution_count": 53,
   "metadata": {},
   "outputs": [
    {
     "data": {
      "text/plain": [
       "array([[5.1, 3.5, 1.4, 0.2, 'Iris-setosa'],\n",
       "       [4.9, 3.0, 1.4, 0.2, 'Iris-setosa'],\n",
       "       [4.7, 3.2, 1.3, 0.2, 'Iris-setosa'],\n",
       "       [4.6, 3.1, 1.5, 0.2, 'Iris-setosa'],\n",
       "       [5.0, 3.6, 1.4, 0.2, 'Iris-setosa'],\n",
       "       [5.4, 3.9, 1.7, 0.4, 'Iris-setosa'],\n",
       "       [4.6, 3.4, 1.4, 0.3, 'Iris-setosa'],\n",
       "       [5.0, 3.4, 1.5, 0.2, 'Iris-setosa'],\n",
       "       [4.4, 2.9, 1.4, 0.2, 'Iris-setosa'],\n",
       "       [4.9, 3.1, 1.5, 0.1, 'Iris-setosa'],\n",
       "       [5.4, 3.7, 1.5, 0.2, 'Iris-setosa'],\n",
       "       [4.8, 3.4, 1.6, 0.2, 'Iris-setosa'],\n",
       "       [4.8, 3.0, 1.4, 0.1, 'Iris-setosa'],\n",
       "       [4.3, 3.0, 1.1, 0.1, 'Iris-setosa'],\n",
       "       [5.8, 4.0, 1.2, 0.2, 'Iris-setosa'],\n",
       "       [5.7, 4.4, 1.5, 0.4, 'Iris-setosa'],\n",
       "       [5.4, 3.9, 1.3, 0.4, 'Iris-setosa'],\n",
       "       [5.1, 3.5, 1.4, 0.3, 'Iris-setosa'],\n",
       "       [5.7, 3.8, 1.7, 0.3, 'Iris-setosa'],\n",
       "       [5.1, 3.8, 1.5, 0.3, 'Iris-setosa'],\n",
       "       [5.4, 3.4, 1.7, 0.2, 'Iris-setosa'],\n",
       "       [5.1, 3.7, 1.5, 0.4, 'Iris-setosa'],\n",
       "       [4.6, 3.6, 1.0, 0.2, 'Iris-setosa'],\n",
       "       [5.1, 3.3, 1.7, 0.5, 'Iris-setosa'],\n",
       "       [4.8, 3.4, 1.9, 0.2, 'Iris-setosa'],\n",
       "       [5.0, 3.0, 1.6, 0.2, 'Iris-setosa'],\n",
       "       [5.0, 3.4, 1.6, 0.4, 'Iris-setosa'],\n",
       "       [5.2, 3.5, 1.5, 0.2, 'Iris-setosa'],\n",
       "       [5.2, 3.4, 1.4, 0.2, 'Iris-setosa'],\n",
       "       [4.7, 3.2, 1.6, 0.2, 'Iris-setosa'],\n",
       "       [4.8, 3.1, 1.6, 0.2, 'Iris-setosa'],\n",
       "       [5.4, 3.4, 1.5, 0.4, 'Iris-setosa'],\n",
       "       [5.2, 4.1, 1.5, 0.1, 'Iris-setosa'],\n",
       "       [5.5, 4.2, 1.4, 0.2, 'Iris-setosa'],\n",
       "       [4.9, 3.1, 1.5, 0.1, 'Iris-setosa'],\n",
       "       [5.0, 3.2, 1.2, 0.2, 'Iris-setosa'],\n",
       "       [5.5, 3.5, 1.3, 0.2, 'Iris-setosa'],\n",
       "       [4.9, 3.1, 1.5, 0.1, 'Iris-setosa'],\n",
       "       [4.4, 3.0, 1.3, 0.2, 'Iris-setosa'],\n",
       "       [5.1, 3.4, 1.5, 0.2, 'Iris-setosa'],\n",
       "       [5.0, 3.5, 1.3, 0.3, 'Iris-setosa'],\n",
       "       [4.5, 2.3, 1.3, 0.3, 'Iris-setosa'],\n",
       "       [4.4, 3.2, 1.3, 0.2, 'Iris-setosa'],\n",
       "       [5.0, 3.5, 1.6, 0.6, 'Iris-setosa'],\n",
       "       [5.1, 3.8, 1.9, 0.4, 'Iris-setosa'],\n",
       "       [4.8, 3.0, 1.4, 0.3, 'Iris-setosa'],\n",
       "       [5.1, 3.8, 1.6, 0.2, 'Iris-setosa'],\n",
       "       [4.6, 3.2, 1.4, 0.2, 'Iris-setosa'],\n",
       "       [5.3, 3.7, 1.5, 0.2, 'Iris-setosa'],\n",
       "       [5.0, 3.3, 1.4, 0.2, 'Iris-setosa'],\n",
       "       [7.0, 3.2, 4.7, 1.4, 'Iris-versicolor'],\n",
       "       [6.4, 3.2, 4.5, 1.5, 'Iris-versicolor'],\n",
       "       [6.9, 3.1, 4.9, 1.5, 'Iris-versicolor'],\n",
       "       [5.5, 2.3, 4.0, 1.3, 'Iris-versicolor'],\n",
       "       [6.5, 2.8, 4.6, 1.5, 'Iris-versicolor'],\n",
       "       [5.7, 2.8, 4.5, 1.3, 'Iris-versicolor'],\n",
       "       [6.3, 3.3, 4.7, 1.6, 'Iris-versicolor'],\n",
       "       [4.9, 2.4, 3.3, 1.0, 'Iris-versicolor'],\n",
       "       [6.6, 2.9, 4.6, 1.3, 'Iris-versicolor'],\n",
       "       [5.2, 2.7, 3.9, 1.4, 'Iris-versicolor'],\n",
       "       [5.0, 2.0, 3.5, 1.0, 'Iris-versicolor'],\n",
       "       [5.9, 3.0, 4.2, 1.5, 'Iris-versicolor'],\n",
       "       [6.0, 2.2, 4.0, 1.0, 'Iris-versicolor'],\n",
       "       [6.1, 2.9, 4.7, 1.4, 'Iris-versicolor'],\n",
       "       [5.6, 2.9, 3.6, 1.3, 'Iris-versicolor'],\n",
       "       [6.7, 3.1, 4.4, 1.4, 'Iris-versicolor'],\n",
       "       [5.6, 3.0, 4.5, 1.5, 'Iris-versicolor'],\n",
       "       [5.8, 2.7, 4.1, 1.0, 'Iris-versicolor'],\n",
       "       [6.2, 2.2, 4.5, 1.5, 'Iris-versicolor'],\n",
       "       [5.6, 2.5, 3.9, 1.1, 'Iris-versicolor'],\n",
       "       [5.9, 3.2, 4.8, 1.8, 'Iris-versicolor'],\n",
       "       [6.1, 2.8, 4.0, 1.3, 'Iris-versicolor'],\n",
       "       [6.3, 2.5, 4.9, 1.5, 'Iris-versicolor'],\n",
       "       [6.1, 2.8, 4.7, 1.2, 'Iris-versicolor'],\n",
       "       [6.4, 2.9, 4.3, 1.3, 'Iris-versicolor'],\n",
       "       [6.6, 3.0, 4.4, 1.4, 'Iris-versicolor'],\n",
       "       [6.8, 2.8, 4.8, 1.4, 'Iris-versicolor'],\n",
       "       [6.7, 3.0, 5.0, 1.7, 'Iris-versicolor'],\n",
       "       [6.0, 2.9, 4.5, 1.5, 'Iris-versicolor'],\n",
       "       [5.7, 2.6, 3.5, 1.0, 'Iris-versicolor'],\n",
       "       [5.5, 2.4, 3.8, 1.1, 'Iris-versicolor'],\n",
       "       [5.5, 2.4, 3.7, 1.0, 'Iris-versicolor'],\n",
       "       [5.8, 2.7, 3.9, 1.2, 'Iris-versicolor'],\n",
       "       [6.0, 2.7, 5.1, 1.6, 'Iris-versicolor'],\n",
       "       [5.4, 3.0, 4.5, 1.5, 'Iris-versicolor'],\n",
       "       [6.0, 3.4, 4.5, 1.6, 'Iris-versicolor'],\n",
       "       [6.7, 3.1, 4.7, 1.5, 'Iris-versicolor'],\n",
       "       [6.3, 2.3, 4.4, 1.3, 'Iris-versicolor'],\n",
       "       [5.6, 3.0, 4.1, 1.3, 'Iris-versicolor'],\n",
       "       [5.5, 2.5, 4.0, 1.3, 'Iris-versicolor'],\n",
       "       [5.5, 2.6, 4.4, 1.2, 'Iris-versicolor'],\n",
       "       [6.1, 3.0, 4.6, 1.4, 'Iris-versicolor'],\n",
       "       [5.8, 2.6, 4.0, 1.2, 'Iris-versicolor'],\n",
       "       [5.0, 2.3, 3.3, 1.0, 'Iris-versicolor'],\n",
       "       [5.6, 2.7, 4.2, 1.3, 'Iris-versicolor'],\n",
       "       [5.7, 3.0, 4.2, 1.2, 'Iris-versicolor'],\n",
       "       [5.7, 2.9, 4.2, 1.3, 'Iris-versicolor'],\n",
       "       [6.2, 2.9, 4.3, 1.3, 'Iris-versicolor'],\n",
       "       [5.1, 2.5, 3.0, 1.1, 'Iris-versicolor'],\n",
       "       [5.7, 2.8, 4.1, 1.3, 'Iris-versicolor'],\n",
       "       [6.3, 3.3, 6.0, 2.5, 'Iris-virginica'],\n",
       "       [5.8, 2.7, 5.1, 1.9, 'Iris-virginica'],\n",
       "       [7.1, 3.0, 5.9, 2.1, 'Iris-virginica'],\n",
       "       [6.3, 2.9, 5.6, 1.8, 'Iris-virginica'],\n",
       "       [6.5, 3.0, 5.8, 2.2, 'Iris-virginica'],\n",
       "       [7.6, 3.0, 6.6, 2.1, 'Iris-virginica'],\n",
       "       [4.9, 2.5, 4.5, 1.7, 'Iris-virginica'],\n",
       "       [7.3, 2.9, 6.3, 1.8, 'Iris-virginica'],\n",
       "       [6.7, 2.5, 5.8, 1.8, 'Iris-virginica'],\n",
       "       [7.2, 3.6, 6.1, 2.5, 'Iris-virginica'],\n",
       "       [6.5, 3.2, 5.1, 2.0, 'Iris-virginica'],\n",
       "       [6.4, 2.7, 5.3, 1.9, 'Iris-virginica'],\n",
       "       [6.8, 3.0, 5.5, 2.1, 'Iris-virginica'],\n",
       "       [5.7, 2.5, 5.0, 2.0, 'Iris-virginica'],\n",
       "       [5.8, 2.8, 5.1, 2.4, 'Iris-virginica'],\n",
       "       [6.4, 3.2, 5.3, 2.3, 'Iris-virginica'],\n",
       "       [6.5, 3.0, 5.5, 1.8, 'Iris-virginica'],\n",
       "       [7.7, 3.8, 6.7, 2.2, 'Iris-virginica'],\n",
       "       [7.7, 2.6, 6.9, 2.3, 'Iris-virginica'],\n",
       "       [6.0, 2.2, 5.0, 1.5, 'Iris-virginica'],\n",
       "       [6.9, 3.2, 5.7, 2.3, 'Iris-virginica'],\n",
       "       [5.6, 2.8, 4.9, 2.0, 'Iris-virginica'],\n",
       "       [7.7, 2.8, 6.7, 2.0, 'Iris-virginica'],\n",
       "       [6.3, 2.7, 4.9, 1.8, 'Iris-virginica'],\n",
       "       [6.7, 3.3, 5.7, 2.1, 'Iris-virginica'],\n",
       "       [7.2, 3.2, 6.0, 1.8, 'Iris-virginica'],\n",
       "       [6.2, 2.8, 4.8, 1.8, 'Iris-virginica'],\n",
       "       [6.1, 3.0, 4.9, 1.8, 'Iris-virginica'],\n",
       "       [6.4, 2.8, 5.6, 2.1, 'Iris-virginica'],\n",
       "       [7.2, 3.0, 5.8, 1.6, 'Iris-virginica'],\n",
       "       [7.4, 2.8, 6.1, 1.9, 'Iris-virginica'],\n",
       "       [7.9, 3.8, 6.4, 2.0, 'Iris-virginica'],\n",
       "       [6.4, 2.8, 5.6, 2.2, 'Iris-virginica'],\n",
       "       [6.3, 2.8, 5.1, 1.5, 'Iris-virginica'],\n",
       "       [6.1, 2.6, 5.6, 1.4, 'Iris-virginica'],\n",
       "       [7.7, 3.0, 6.1, 2.3, 'Iris-virginica'],\n",
       "       [6.3, 3.4, 5.6, 2.4, 'Iris-virginica'],\n",
       "       [6.4, 3.1, 5.5, 1.8, 'Iris-virginica'],\n",
       "       [6.0, 3.0, 4.8, 1.8, 'Iris-virginica'],\n",
       "       [6.9, 3.1, 5.4, 2.1, 'Iris-virginica'],\n",
       "       [6.7, 3.1, 5.6, 2.4, 'Iris-virginica'],\n",
       "       [6.9, 3.1, 5.1, 2.3, 'Iris-virginica'],\n",
       "       [5.8, 2.7, 5.1, 1.9, 'Iris-virginica'],\n",
       "       [6.8, 3.2, 5.9, 2.3, 'Iris-virginica'],\n",
       "       [6.7, 3.3, 5.7, 2.5, 'Iris-virginica'],\n",
       "       [6.7, 3.0, 5.2, 2.3, 'Iris-virginica'],\n",
       "       [6.3, 2.5, 5.0, 1.9, 'Iris-virginica'],\n",
       "       [6.5, 3.0, 5.2, 2.0, 'Iris-virginica'],\n",
       "       [6.2, 3.4, 5.4, 2.3, 'Iris-virginica'],\n",
       "       [5.9, 3.0, 5.1, 1.8, 'Iris-virginica']], dtype=object)"
      ]
     },
     "execution_count": 53,
     "metadata": {},
     "output_type": "execute_result"
    }
   ],
   "source": [
    "np_arr = data.to_numpy()\n",
    "np_arr"
   ]
  },
  {
   "cell_type": "code",
   "execution_count": 55,
   "metadata": {},
   "outputs": [
    {
     "data": {
      "text/plain": [
       "numpy.ndarray"
      ]
     },
     "execution_count": 55,
     "metadata": {},
     "output_type": "execute_result"
    }
   ],
   "source": [
    "type(np_arr)"
   ]
  },
  {
   "cell_type": "code",
   "execution_count": 56,
   "metadata": {},
   "outputs": [
    {
     "data": {
      "text/plain": [
       "array([5.1, 3.5, 1.4, 0.2, 'Iris-setosa'], dtype=object)"
      ]
     },
     "execution_count": 56,
     "metadata": {},
     "output_type": "execute_result"
    }
   ],
   "source": [
    "np_arr[0]"
   ]
  },
  {
   "cell_type": "markdown",
   "metadata": {
    "id": "Aq8b5pPMHOiW"
   },
   "source": [
    "stack an array to matrix vertically and horizontally using hstack and vstack functions"
   ]
  },
  {
   "cell_type": "code",
   "execution_count": 65,
   "metadata": {
    "id": "XREuZ15KHTyL"
   },
   "outputs": [
    {
     "name": "stdout",
     "output_type": "stream",
     "text": [
      "[[10 45 90]\n",
      " [98 72 60]\n",
      " [47 23 36]]\n",
      "\n",
      "[[30 24 85]]\n"
     ]
    }
   ],
   "source": [
    "a = np.random.randint(0,100,size=(3,3))\n",
    "b = np.random.randint(0,100,size=(1,3))\n",
    "print(a)\n",
    "print()\n",
    "print(b)"
   ]
  },
  {
   "cell_type": "code",
   "execution_count": 72,
   "metadata": {},
   "outputs": [
    {
     "data": {
      "text/plain": [
       "array([[10, 45, 90],\n",
       "       [98, 72, 60],\n",
       "       [47, 23, 36],\n",
       "       [30, 24, 85]])"
      ]
     },
     "execution_count": 72,
     "metadata": {},
     "output_type": "execute_result"
    }
   ],
   "source": [
    "# horizontal stacking\n",
    "vstack = np.vstack((a,b))\n",
    "vstack"
   ]
  },
  {
   "cell_type": "code",
   "execution_count": 92,
   "metadata": {},
   "outputs": [
    {
     "name": "stdout",
     "output_type": "stream",
     "text": [
      "[10 45 90 98 72 60 47 23 36]\n",
      "[30 24 85]\n"
     ]
    },
    {
     "data": {
      "text/plain": [
       "array([10, 45, 90, 98, 72, 60, 47, 23, 36, 30, 24, 85])"
      ]
     },
     "execution_count": 92,
     "metadata": {},
     "output_type": "execute_result"
    }
   ],
   "source": [
    "# vertical stacking\n",
    "ha = np.hstack(a)\n",
    "print(ha)\n",
    "hb = np.hstack(b)\n",
    "print(hb)\n",
    "new = np.hstack((ha,hb))\n",
    "new"
   ]
  },
  {
   "cell_type": "markdown",
   "metadata": {
    "id": "NvCK72vlHbYv"
   },
   "source": [
    "replace items that satisfy a condition with another value"
   ]
  },
  {
   "cell_type": "code",
   "execution_count": 94,
   "metadata": {
    "id": "8jDWK9F3Hcw2"
   },
   "outputs": [
    {
     "data": {
      "text/plain": [
       "array([[72, 65, 33,  2, 37, 19, 85, 40, 55, 28],\n",
       "       [60,  0, 89, 94, 87, 51, 71, 84, 94, 51],\n",
       "       [28, 70,  0, 48, 97, 67, 76, 85, 48, 42],\n",
       "       [43, 44, 41,  2, 67, 74, 69, 79, 50, 93],\n",
       "       [89, 45, 53, 67, 23, 89, 35, 89, 51, 74],\n",
       "       [38, 34, 28, 10,  6, 51, 61,  1, 11, 13],\n",
       "       [41, 29, 56, 91, 63, 81, 59, 51, 26, 27],\n",
       "       [52,  6, 25, 98, 92,  2, 13, 45, 68, 96],\n",
       "       [13, 20, 64, 18,  9, 40, 66,  2, 75, 69],\n",
       "       [38,  8, 56,  5, 40,  1, 48, 79, 57,  7]])"
      ]
     },
     "execution_count": 94,
     "metadata": {},
     "output_type": "execute_result"
    }
   ],
   "source": [
    "a = np.random.randint(0,100,size=(10,10))\n",
    "a"
   ]
  },
  {
   "cell_type": "code",
   "execution_count": 95,
   "metadata": {},
   "outputs": [
    {
     "data": {
      "text/plain": [
       "array([[-1, -1, -1,  2, -1, 19, -1, -1, -1, -1],\n",
       "       [-1,  0, -1, -1, -1, -1, -1, -1, -1, -1],\n",
       "       [-1, -1,  0, -1, -1, -1, -1, -1, -1, -1],\n",
       "       [-1, -1, -1,  2, -1, -1, -1, -1, -1, -1],\n",
       "       [-1, -1, -1, -1, -1, -1, -1, -1, -1, -1],\n",
       "       [-1, -1, -1, 10,  6, -1, -1,  1, 11, 13],\n",
       "       [-1, -1, -1, -1, -1, -1, -1, -1, -1, -1],\n",
       "       [-1,  6, -1, -1, -1,  2, 13, -1, -1, -1],\n",
       "       [13, 20, -1, 18,  9, -1, -1,  2, -1, -1],\n",
       "       [-1,  8, -1,  5, -1,  1, -1, -1, -1,  7]])"
      ]
     },
     "execution_count": 95,
     "metadata": {},
     "output_type": "execute_result"
    }
   ],
   "source": [
    "# items bigger than 20 -> -1\n",
    "a = np.where(a >20 , -1 ,a )\n",
    "a"
   ]
  },
  {
   "cell_type": "markdown",
   "metadata": {
    "id": "X6v6gwjiHwkU"
   },
   "source": [
    "get the intersection between two python numpy arrays\n"
   ]
  },
  {
   "cell_type": "code",
   "execution_count": 100,
   "metadata": {
    "id": "H6sHSfHYxfQf"
   },
   "outputs": [
    {
     "data": {
      "text/plain": [
       "array([0, 1, 2, 3, 4, 5, 6, 7, 8, 9])"
      ]
     },
     "execution_count": 100,
     "metadata": {},
     "output_type": "execute_result"
    }
   ],
   "source": [
    "a = np.arange(10)\n",
    "b = np.arange(5) * 2\n",
    "a\n"
   ]
  },
  {
   "cell_type": "code",
   "execution_count": 101,
   "metadata": {},
   "outputs": [
    {
     "data": {
      "text/plain": [
       "array([0, 2, 4, 6, 8])"
      ]
     },
     "execution_count": 101,
     "metadata": {},
     "output_type": "execute_result"
    }
   ],
   "source": [
    "b"
   ]
  },
  {
   "cell_type": "code",
   "execution_count": 102,
   "metadata": {},
   "outputs": [
    {
     "data": {
      "text/plain": [
       "array([0, 2, 4, 6, 8])"
      ]
     },
     "execution_count": 102,
     "metadata": {},
     "output_type": "execute_result"
    }
   ],
   "source": [
    "intesection = a[np.in1d(a,b)]\n",
    "intesection"
   ]
  },
  {
   "cell_type": "code",
   "execution_count": 103,
   "metadata": {},
   "outputs": [
    {
     "data": {
      "text/plain": [
       "array([0, 2, 4, 6, 8])"
      ]
     },
     "execution_count": 103,
     "metadata": {},
     "output_type": "execute_result"
    }
   ],
   "source": [
    "c= np.intersect1d(a, b)\n",
    "c"
   ]
  },
  {
   "cell_type": "markdown",
   "metadata": {
    "id": "wVCfodgxH5BZ"
   },
   "source": [
    "remove items of an array from another array"
   ]
  },
  {
   "cell_type": "code",
   "execution_count": 105,
   "metadata": {
    "id": "PRSgpbHoxf-g"
   },
   "outputs": [
    {
     "data": {
      "text/plain": [
       "array([0, 1, 2, 3, 4, 5, 6, 7, 8, 9])"
      ]
     },
     "execution_count": 105,
     "metadata": {},
     "output_type": "execute_result"
    }
   ],
   "source": [
    "a = np.arange(10)\n",
    "b = np.arange(5) * 2\n",
    "a"
   ]
  },
  {
   "cell_type": "code",
   "execution_count": 106,
   "metadata": {},
   "outputs": [
    {
     "data": {
      "text/plain": [
       "array([0, 2, 4, 6, 8])"
      ]
     },
     "execution_count": 106,
     "metadata": {},
     "output_type": "execute_result"
    }
   ],
   "source": [
    "b"
   ]
  },
  {
   "cell_type": "code",
   "execution_count": 107,
   "metadata": {},
   "outputs": [
    {
     "data": {
      "text/plain": [
       "[1, 3, 5, 7, 9]"
      ]
     },
     "execution_count": 107,
     "metadata": {},
     "output_type": "execute_result"
    }
   ],
   "source": [
    "a = [i for i in a if i not in b]\n",
    "a"
   ]
  },
  {
   "cell_type": "markdown",
   "metadata": {
    "id": "SeZIR_9xIGqK"
   },
   "source": [
    "extract all elements between a given range"
   ]
  },
  {
   "cell_type": "code",
   "execution_count": 108,
   "metadata": {
    "id": "UkO9qd36xgrP"
   },
   "outputs": [
    {
     "data": {
      "text/plain": [
       "(array([5, 6, 7, 8, 9]),)"
      ]
     },
     "execution_count": 108,
     "metadata": {},
     "output_type": "execute_result"
    }
   ],
   "source": [
    "a = np.arange(10)\n",
    "# items between 5 and 10\n",
    "a = np.where(np.logical_and(a>=5, a<=10))\n",
    "a"
   ]
  },
  {
   "cell_type": "markdown",
   "metadata": {
    "id": "HCuUnuPgIZ3z"
   },
   "source": [
    "change columns order in a 2d numpy array"
   ]
  },
  {
   "cell_type": "code",
   "execution_count": 110,
   "metadata": {
    "colab": {
     "base_uri": "https://localhost:8080/"
    },
    "id": "9SzZFCLXxhT3",
    "outputId": "b38cab58-99b1-4ea6-fb79-511c282e66b7"
   },
   "outputs": [
    {
     "data": {
      "text/plain": [
       "array([[ 0,  1,  2,  3],\n",
       "       [ 4,  5,  6,  7],\n",
       "       [ 8,  9, 10, 11]])"
      ]
     },
     "execution_count": 110,
     "metadata": {},
     "output_type": "execute_result"
    }
   ],
   "source": [
    "a = np.arange(12).reshape((3,4))\n",
    "a"
   ]
  },
  {
   "cell_type": "code",
   "execution_count": 111,
   "metadata": {},
   "outputs": [
    {
     "data": {
      "text/plain": [
       "array([[[ 0,  1,  2],\n",
       "        [ 3,  4,  5]],\n",
       "\n",
       "       [[ 6,  7,  8],\n",
       "        [ 9, 10, 11]]])"
      ]
     },
     "execution_count": 111,
     "metadata": {},
     "output_type": "execute_result"
    }
   ],
   "source": [
    "a = np.arange(12).reshape((2,2,3))\n",
    "a"
   ]
  },
  {
   "cell_type": "markdown",
   "metadata": {
    "id": "AGoVfz3rKzSS"
   },
   "source": [
    "count elements"
   ]
  },
  {
   "cell_type": "code",
   "execution_count": 132,
   "metadata": {
    "id": "MPv9Bfiexi0e"
   },
   "outputs": [
    {
     "data": {
      "text/plain": [
       "array([[21, 10,  3, 61, 17, 28, 67,  3, 35, 44],\n",
       "       [10, 47, 50, 34,  5, 47, 18, 79, 19, 26],\n",
       "       [11, 86, 22, 66, 67, 45, 92, 88, 54, 32],\n",
       "       [56, 12, 29, 25, 68, 40, 65, 29, 72, 95],\n",
       "       [93,  9, 86, 94, 69, 71, 53, 58, 63, 56],\n",
       "       [72, 77, 80, 13, 80, 92, 79, 74, 35, 47],\n",
       "       [67, 85, 59, 55, 47, 52, 30,  5, 13,  9],\n",
       "       [16, 22, 19, 13, 32, 42, 12, 63, 90, 61],\n",
       "       [73, 63, 73, 81,  8, 97, 65,  0, 38, 73],\n",
       "       [48, 10,  2, 80, 46, 13, 78, 81,  3, 23]])"
      ]
     },
     "execution_count": 132,
     "metadata": {},
     "output_type": "execute_result"
    }
   ],
   "source": [
    "a = np.random.randint(0,100,size=(10,10)) \n",
    "a"
   ]
  },
  {
   "cell_type": "code",
   "execution_count": 133,
   "metadata": {},
   "outputs": [
    {
     "data": {
      "text/plain": [
       "{21: 1,\n",
       " 10: 3,\n",
       " 3: 3,\n",
       " 61: 2,\n",
       " 17: 1,\n",
       " 28: 1,\n",
       " 67: 3,\n",
       " 35: 2,\n",
       " 44: 1,\n",
       " 47: 4,\n",
       " 50: 1,\n",
       " 34: 1,\n",
       " 5: 2,\n",
       " 18: 1,\n",
       " 79: 2,\n",
       " 19: 2,\n",
       " 26: 1,\n",
       " 11: 1,\n",
       " 86: 2,\n",
       " 22: 2,\n",
       " 66: 1,\n",
       " 45: 1,\n",
       " 92: 2,\n",
       " 88: 1,\n",
       " 54: 1,\n",
       " 32: 2,\n",
       " 56: 2,\n",
       " 12: 2,\n",
       " 29: 2,\n",
       " 25: 1,\n",
       " 68: 1,\n",
       " 40: 1,\n",
       " 65: 2,\n",
       " 72: 2,\n",
       " 95: 1,\n",
       " 93: 1,\n",
       " 9: 2,\n",
       " 94: 1,\n",
       " 69: 1,\n",
       " 71: 1,\n",
       " 53: 1,\n",
       " 58: 1,\n",
       " 63: 3,\n",
       " 77: 1,\n",
       " 80: 3,\n",
       " 13: 4,\n",
       " 74: 1,\n",
       " 85: 1,\n",
       " 59: 1,\n",
       " 55: 1,\n",
       " 52: 1,\n",
       " 30: 1,\n",
       " 16: 1,\n",
       " 42: 1,\n",
       " 90: 1,\n",
       " 73: 3,\n",
       " 81: 2,\n",
       " 8: 1,\n",
       " 97: 1,\n",
       " 0: 1,\n",
       " 38: 1,\n",
       " 48: 1,\n",
       " 2: 1,\n",
       " 46: 1,\n",
       " 78: 1,\n",
       " 23: 1}"
      ]
     },
     "execution_count": 133,
     "metadata": {},
     "output_type": "execute_result"
    }
   ],
   "source": [
    "#count of each element\n",
    "x = [element for row in a for element in row]\n",
    "\n",
    "freq={}\n",
    "for element in x:\n",
    "    if element in freq:\n",
    "        freq[element]+=1\n",
    "    else:\n",
    "        freq[element] = 1\n",
    "\n",
    "freq"
   ]
  },
  {
   "cell_type": "code",
   "execution_count": 138,
   "metadata": {},
   "outputs": [
    {
     "data": {
      "text/plain": [
       "{0: 1,\n",
       " 2: 1,\n",
       " 3: 3,\n",
       " 5: 2,\n",
       " 8: 1,\n",
       " 9: 2,\n",
       " 10: 3,\n",
       " 11: 1,\n",
       " 12: 2,\n",
       " 13: 4,\n",
       " 16: 1,\n",
       " 17: 1,\n",
       " 18: 1,\n",
       " 19: 2,\n",
       " 21: 1,\n",
       " 22: 2,\n",
       " 23: 1,\n",
       " 25: 1,\n",
       " 26: 1,\n",
       " 28: 1,\n",
       " 29: 2,\n",
       " 30: 1,\n",
       " 32: 2,\n",
       " 34: 1,\n",
       " 35: 2,\n",
       " 38: 1,\n",
       " 40: 1,\n",
       " 42: 1,\n",
       " 44: 1,\n",
       " 45: 1,\n",
       " 46: 1,\n",
       " 47: 4,\n",
       " 48: 1,\n",
       " 50: 1,\n",
       " 52: 1,\n",
       " 53: 1,\n",
       " 54: 1,\n",
       " 55: 1,\n",
       " 56: 2,\n",
       " 58: 1,\n",
       " 59: 1,\n",
       " 61: 2,\n",
       " 63: 3,\n",
       " 65: 2,\n",
       " 66: 1,\n",
       " 67: 3,\n",
       " 68: 1,\n",
       " 69: 1,\n",
       " 71: 1,\n",
       " 72: 2,\n",
       " 73: 3,\n",
       " 74: 1,\n",
       " 77: 1,\n",
       " 78: 1,\n",
       " 79: 2,\n",
       " 80: 3,\n",
       " 81: 2,\n",
       " 85: 1,\n",
       " 86: 2,\n",
       " 88: 1,\n",
       " 90: 1,\n",
       " 92: 2,\n",
       " 93: 1,\n",
       " 94: 1,\n",
       " 95: 1,\n",
       " 97: 1}"
      ]
     },
     "execution_count": 138,
     "metadata": {},
     "output_type": "execute_result"
    }
   ],
   "source": [
    "unique, counts = np.unique(a, return_counts=True)\n",
    "dict(zip(unique, counts))"
   ]
  },
  {
   "cell_type": "markdown",
   "metadata": {
    "id": "6I_2ofsyLDwM"
   },
   "source": [
    "sort by column"
   ]
  },
  {
   "cell_type": "code",
   "execution_count": 145,
   "metadata": {
    "id": "r4DVtEVQxjRu"
   },
   "outputs": [
    {
     "data": {
      "text/plain": [
       "array([[55, 60,  5, 31, 64,  3, 45, 56, 36, 53],\n",
       "       [63, 99, 66,  6, 85, 47, 16, 39, 24, 93],\n",
       "       [69, 15, 80, 11, 74, 59, 72, 80, 75, 58],\n",
       "       [72, 80,  0, 75,  3, 47, 26, 28, 47,  3],\n",
       "       [94, 36, 35, 94, 25, 31, 55, 28, 49, 99],\n",
       "       [22, 24, 65, 77, 44, 65, 64, 14, 51, 24],\n",
       "       [44, 61, 29, 53,  2, 33, 90, 31, 29, 22],\n",
       "       [46, 25, 52,  5, 32, 26, 31, 21, 34,  3],\n",
       "       [18, 63, 16,  6, 11, 46, 17, 63, 32, 47],\n",
       "       [36, 21, 69, 36, 97, 37, 12, 23, 43, 42]])"
      ]
     },
     "execution_count": 145,
     "metadata": {},
     "output_type": "execute_result"
    }
   ],
   "source": [
    "a = np.random.randint(0,100,size=(10,10))\n",
    "a"
   ]
  },
  {
   "cell_type": "code",
   "execution_count": 146,
   "metadata": {},
   "outputs": [
    {
     "data": {
      "text/plain": [
       "array([[72, 80,  0, 75,  3, 47, 26, 28, 47,  3],\n",
       "       [55, 60,  5, 31, 64,  3, 45, 56, 36, 53],\n",
       "       [18, 63, 16,  6, 11, 46, 17, 63, 32, 47],\n",
       "       [44, 61, 29, 53,  2, 33, 90, 31, 29, 22],\n",
       "       [94, 36, 35, 94, 25, 31, 55, 28, 49, 99],\n",
       "       [46, 25, 52,  5, 32, 26, 31, 21, 34,  3],\n",
       "       [22, 24, 65, 77, 44, 65, 64, 14, 51, 24],\n",
       "       [63, 99, 66,  6, 85, 47, 16, 39, 24, 93],\n",
       "       [36, 21, 69, 36, 97, 37, 12, 23, 43, 42],\n",
       "       [69, 15, 80, 11, 74, 59, 72, 80, 75, 58]])"
      ]
     },
     "execution_count": 146,
     "metadata": {},
     "output_type": "execute_result"
    }
   ],
   "source": [
    "# sort based on column 3\n",
    "a = a[a[:, 2].argsort()]\n",
    "a"
   ]
  },
  {
   "cell_type": "markdown",
   "metadata": {
    "id": "Yg-H7qbgLUiq"
   },
   "source": [
    "generate one hot encoding"
   ]
  },
  {
   "cell_type": "code",
   "execution_count": 167,
   "metadata": {
    "id": "Q4DHr86Cxjzq"
   },
   "outputs": [
    {
     "data": {
      "text/plain": [
       "array([82, 22, 46, 36, 43, 96, 44, 79, 51, 84])"
      ]
     },
     "execution_count": 167,
     "metadata": {},
     "output_type": "execute_result"
    }
   ],
   "source": [
    "a = np.random.randint(0,100,size=10)\n",
    "a"
   ]
  },
  {
   "cell_type": "code",
   "execution_count": 164,
   "metadata": {},
   "outputs": [
    {
     "data": {
      "text/plain": [
       "array([[0., 0., 0., 0., 0., 0., 0., 0., 0., 0., 0., 0., 0., 0., 0., 0.,\n",
       "        0., 0., 0., 0., 0., 0., 0., 0., 0., 0., 0., 0., 0., 0., 0., 0.,\n",
       "        0., 0., 0., 0., 0., 0., 0., 0., 0., 0., 0., 0., 0., 0., 0., 0.,\n",
       "        0., 0., 0., 0., 0., 0., 0., 0., 0., 0., 0., 0., 0., 0., 0., 0.,\n",
       "        0., 0., 0., 0., 0., 0., 0., 0., 0., 0., 0., 0., 0., 0., 0., 0.,\n",
       "        0., 0., 0., 0., 0., 0., 1., 0., 0., 0., 0., 0., 0., 0., 0., 0.,\n",
       "        0., 0., 0., 0.],\n",
       "       [0., 0., 0., 0., 0., 0., 0., 0., 0., 1., 0., 0., 0., 0., 0., 0.,\n",
       "        0., 0., 0., 0., 0., 0., 0., 0., 0., 0., 0., 0., 0., 0., 0., 0.,\n",
       "        0., 0., 0., 0., 0., 0., 0., 0., 0., 0., 0., 0., 0., 0., 0., 0.,\n",
       "        0., 0., 0., 0., 0., 0., 0., 0., 0., 0., 0., 0., 0., 0., 0., 0.,\n",
       "        0., 0., 0., 0., 0., 0., 0., 0., 0., 0., 0., 0., 0., 0., 0., 0.,\n",
       "        0., 0., 0., 0., 0., 0., 0., 0., 0., 0., 0., 0., 0., 0., 0., 0.,\n",
       "        0., 0., 0., 0.],\n",
       "       [0., 0., 0., 0., 0., 0., 0., 0., 0., 0., 0., 0., 0., 0., 0., 0.,\n",
       "        0., 0., 0., 0., 0., 0., 0., 0., 0., 0., 0., 0., 0., 0., 0., 0.,\n",
       "        0., 0., 0., 0., 0., 0., 0., 0., 0., 0., 0., 0., 0., 0., 0., 0.,\n",
       "        0., 0., 0., 0., 0., 0., 0., 0., 0., 0., 1., 0., 0., 0., 0., 0.,\n",
       "        0., 0., 0., 0., 0., 0., 0., 0., 0., 0., 0., 0., 0., 0., 0., 0.,\n",
       "        0., 0., 0., 0., 0., 0., 0., 0., 0., 0., 0., 0., 0., 0., 0., 0.,\n",
       "        0., 0., 0., 0.],\n",
       "       [0., 0., 0., 0., 0., 0., 0., 0., 0., 0., 0., 0., 0., 0., 0., 0.,\n",
       "        0., 0., 0., 0., 0., 0., 0., 0., 0., 0., 0., 0., 0., 0., 0., 0.,\n",
       "        0., 0., 0., 0., 0., 0., 0., 0., 0., 0., 0., 0., 0., 0., 0., 1.,\n",
       "        0., 0., 0., 0., 0., 0., 0., 0., 0., 0., 0., 0., 0., 0., 0., 0.,\n",
       "        0., 0., 0., 0., 0., 0., 0., 0., 0., 0., 0., 0., 0., 0., 0., 0.,\n",
       "        0., 0., 0., 0., 0., 0., 0., 0., 0., 0., 0., 0., 0., 0., 0., 0.,\n",
       "        0., 0., 0., 0.],\n",
       "       [0., 0., 0., 0., 0., 0., 0., 0., 0., 0., 0., 0., 0., 0., 0., 0.,\n",
       "        0., 0., 0., 0., 0., 0., 0., 0., 0., 0., 0., 0., 0., 0., 0., 0.,\n",
       "        0., 0., 0., 0., 0., 0., 0., 0., 0., 0., 0., 0., 0., 0., 0., 0.,\n",
       "        0., 0., 0., 0., 0., 0., 0., 0., 0., 0., 0., 0., 0., 0., 0., 0.,\n",
       "        0., 0., 0., 0., 0., 0., 0., 0., 0., 0., 0., 0., 0., 0., 0., 0.,\n",
       "        0., 0., 0., 0., 0., 0., 0., 0., 0., 0., 0., 0., 0., 0., 0., 0.,\n",
       "        0., 1., 0., 0.],\n",
       "       [0., 0., 0., 0., 0., 0., 0., 0., 0., 0., 0., 0., 0., 0., 0., 0.,\n",
       "        0., 0., 0., 0., 0., 0., 0., 0., 0., 0., 0., 0., 0., 0., 0., 0.,\n",
       "        0., 0., 0., 0., 0., 0., 0., 0., 0., 0., 0., 0., 0., 0., 0., 0.,\n",
       "        0., 0., 0., 0., 1., 0., 0., 0., 0., 0., 0., 0., 0., 0., 0., 0.,\n",
       "        0., 0., 0., 0., 0., 0., 0., 0., 0., 0., 0., 0., 0., 0., 0., 0.,\n",
       "        0., 0., 0., 0., 0., 0., 0., 0., 0., 0., 0., 0., 0., 0., 0., 0.,\n",
       "        0., 0., 0., 0.],\n",
       "       [0., 0., 0., 0., 0., 0., 0., 0., 0., 0., 0., 0., 0., 0., 0., 0.,\n",
       "        0., 0., 0., 0., 0., 0., 0., 0., 0., 0., 0., 0., 0., 0., 0., 0.,\n",
       "        0., 0., 0., 0., 0., 0., 0., 0., 0., 0., 0., 0., 0., 0., 0., 0.,\n",
       "        0., 0., 0., 0., 0., 0., 0., 0., 0., 0., 0., 0., 0., 0., 0., 0.,\n",
       "        0., 0., 0., 0., 0., 0., 0., 1., 0., 0., 0., 0., 0., 0., 0., 0.,\n",
       "        0., 0., 0., 0., 0., 0., 0., 0., 0., 0., 0., 0., 0., 0., 0., 0.,\n",
       "        0., 0., 0., 0.],\n",
       "       [0., 0., 0., 0., 0., 0., 0., 0., 0., 0., 0., 0., 0., 0., 0., 0.,\n",
       "        0., 0., 0., 0., 0., 0., 0., 0., 0., 0., 0., 0., 0., 0., 0., 0.,\n",
       "        0., 0., 0., 0., 1., 0., 0., 0., 0., 0., 0., 0., 0., 0., 0., 0.,\n",
       "        0., 0., 0., 0., 0., 0., 0., 0., 0., 0., 0., 0., 0., 0., 0., 0.,\n",
       "        0., 0., 0., 0., 0., 0., 0., 0., 0., 0., 0., 0., 0., 0., 0., 0.,\n",
       "        0., 0., 0., 0., 0., 0., 0., 0., 0., 0., 0., 0., 0., 0., 0., 0.,\n",
       "        0., 0., 0., 0.],\n",
       "       [0., 0., 0., 0., 0., 0., 0., 0., 0., 0., 0., 0., 0., 0., 0., 0.,\n",
       "        0., 0., 0., 0., 0., 0., 0., 0., 0., 0., 0., 0., 0., 0., 0., 0.,\n",
       "        0., 0., 0., 0., 0., 0., 0., 0., 0., 0., 0., 0., 0., 0., 0., 0.,\n",
       "        0., 0., 0., 0., 0., 0., 0., 0., 0., 0., 0., 0., 0., 0., 0., 0.,\n",
       "        0., 0., 0., 0., 0., 0., 0., 0., 0., 0., 0., 0., 0., 0., 0., 0.,\n",
       "        0., 0., 0., 0., 0., 0., 0., 0., 0., 0., 0., 0., 0., 0., 0., 0.,\n",
       "        0., 0., 0., 1.],\n",
       "       [0., 0., 0., 0., 0., 0., 0., 0., 0., 0., 0., 0., 0., 1., 0., 0.,\n",
       "        0., 0., 0., 0., 0., 0., 0., 0., 0., 0., 0., 0., 0., 0., 0., 0.,\n",
       "        0., 0., 0., 0., 0., 0., 0., 0., 0., 0., 0., 0., 0., 0., 0., 0.,\n",
       "        0., 0., 0., 0., 0., 0., 0., 0., 0., 0., 0., 0., 0., 0., 0., 0.,\n",
       "        0., 0., 0., 0., 0., 0., 0., 0., 0., 0., 0., 0., 0., 0., 0., 0.,\n",
       "        0., 0., 0., 0., 0., 0., 0., 0., 0., 0., 0., 0., 0., 0., 0., 0.,\n",
       "        0., 0., 0., 0.]])"
      ]
     },
     "execution_count": 164,
     "metadata": {},
     "output_type": "execute_result"
    }
   ],
   "source": [
    "b = np.zeros((a.size, a.max()+1))\n",
    "b[np.arange(a.size),a] = 1\n",
    "b"
   ]
  },
  {
   "cell_type": "markdown",
   "metadata": {
    "id": "hq8fNmt3oRfk"
   },
   "source": [
    "numpy broadcasting . we have two arrays with shape [a] and [b]. we want to compute distance between each two elements using broadcasting"
   ]
  },
  {
   "cell_type": "code",
   "execution_count": null,
   "metadata": {
    "id": "jrNX-PbpoRgA"
   },
   "outputs": [],
   "source": [
    "a = np.random.randint(0,10,size=(7))\n",
    "b = np.random.randint(0,10,size=(5))\n",
    "# your code here"
   ]
  },
  {
   "cell_type": "markdown",
   "metadata": {
    "id": "sg5HaH88KOmt"
   },
   "source": [
    "arithmetic operation"
   ]
  },
  {
   "cell_type": "code",
   "execution_count": 177,
   "metadata": {
    "id": "eZUbTr3cxlMr"
   },
   "outputs": [
    {
     "data": {
      "text/plain": [
       "(array([[18,  4, 99,  4,  6, 96, 82, 56, 47, 39],\n",
       "        [28,  4, 99, 49, 34, 12, 77, 51, 70, 16],\n",
       "        [28, 26, 96, 57, 23,  9,  5, 40, 72, 60],\n",
       "        [97,  7,  1, 35, 50, 87, 54, 75, 28,  4],\n",
       "        [82,  0, 41, 12, 12, 80, 14, 62, 98, 70],\n",
       "        [61, 68, 11, 40, 63, 91, 85,  1, 25, 14],\n",
       "        [ 9,  8, 62, 70, 55, 91, 26, 70, 50, 13],\n",
       "        [87, 42, 97, 63, 61,  5, 96, 98, 42, 71],\n",
       "        [83, 26, 36,  1, 26, 95,  6, 98, 16,  5],\n",
       "        [91, 88, 61, 70, 84, 85, 28,  9, 38, 26]]),\n",
       " array([[86,  3, 65, 96, 62, 19, 39, 78, 60, 63],\n",
       "        [48, 37, 38, 71, 37, 38, 56, 96, 79, 48],\n",
       "        [12, 43, 68, 48, 59, 50, 88, 50,  3, 78],\n",
       "        [76, 43, 83, 27, 98, 92, 20, 15, 45, 42],\n",
       "        [32, 25, 10, 14, 53, 90, 35, 96, 69, 35],\n",
       "        [ 3, 93, 10,  5, 37, 95, 17, 49, 75, 22],\n",
       "        [99, 97, 12, 74, 58, 76, 98, 75, 25, 35],\n",
       "        [44, 79, 52, 76,  5, 85, 97,  9, 91,  1],\n",
       "        [ 9, 43, 34, 83, 29, 11,  3, 50, 73, 99],\n",
       "        [94, 71, 82, 46, 42, 89, 77, 40, 73, 81]]),\n",
       " array([[-68,   1,  34, -92, -56,  77,  43, -22, -13, -24],\n",
       "        [-20, -33,  61, -22,  -3, -26,  21, -45,  -9, -32],\n",
       "        [ 16, -17,  28,   9, -36, -41, -83, -10,  69, -18],\n",
       "        [ 21, -36, -82,   8, -48,  -5,  34,  60, -17, -38],\n",
       "        [ 50, -25,  31,  -2, -41, -10, -21, -34,  29,  35],\n",
       "        [ 58, -25,   1,  35,  26,  -4,  68, -48, -50,  -8],\n",
       "        [-90, -89,  50,  -4,  -3,  15, -72,  -5,  25, -22],\n",
       "        [ 43, -37,  45, -13,  56, -80,  -1,  89, -49,  70],\n",
       "        [ 74, -17,   2, -82,  -3,  84,   3,  48, -57, -94],\n",
       "        [ -3,  17, -21,  24,  42,  -4, -49, -31, -35, -55]]),\n",
       " array([[104,   7, 164, 100,  68, 115, 121, 134, 107, 102],\n",
       "        [ 76,  41, 137, 120,  71,  50, 133, 147, 149,  64],\n",
       "        [ 40,  69, 164, 105,  82,  59,  93,  90,  75, 138],\n",
       "        [173,  50,  84,  62, 148, 179,  74,  90,  73,  46],\n",
       "        [114,  25,  51,  26,  65, 170,  49, 158, 167, 105],\n",
       "        [ 64, 161,  21,  45, 100, 186, 102,  50, 100,  36],\n",
       "        [108, 105,  74, 144, 113, 167, 124, 145,  75,  48],\n",
       "        [131, 121, 149, 139,  66,  90, 193, 107, 133,  72],\n",
       "        [ 92,  69,  70,  84,  55, 106,   9, 148,  89, 104],\n",
       "        [185, 159, 143, 116, 126, 174, 105,  49, 111, 107]]),\n",
       " array([[1548,   12, 6435,  384,  372, 1824, 3198, 4368, 2820, 2457],\n",
       "        [1344,  148, 3762, 3479, 1258,  456, 4312, 4896, 5530,  768],\n",
       "        [ 336, 1118, 6528, 2736, 1357,  450,  440, 2000,  216, 4680],\n",
       "        [7372,  301,   83,  945, 4900, 8004, 1080, 1125, 1260,  168],\n",
       "        [2624,    0,  410,  168,  636, 7200,  490, 5952, 6762, 2450],\n",
       "        [ 183, 6324,  110,  200, 2331, 8645, 1445,   49, 1875,  308],\n",
       "        [ 891,  776,  744, 5180, 3190, 6916, 2548, 5250, 1250,  455],\n",
       "        [3828, 3318, 5044, 4788,  305,  425, 9312,  882, 3822,   71],\n",
       "        [ 747, 1118, 1224,   83,  754, 1045,   18, 4900, 1168,  495],\n",
       "        [8554, 6248, 5002, 3220, 3528, 7565, 2156,  360, 2774, 2106]]),\n",
       " array([[2.09302326e-01, 1.33333333e+00, 1.52307692e+00, 4.16666667e-02,\n",
       "         9.67741935e-02, 5.05263158e+00, 2.10256410e+00, 7.17948718e-01,\n",
       "         7.83333333e-01, 6.19047619e-01],\n",
       "        [5.83333333e-01, 1.08108108e-01, 2.60526316e+00, 6.90140845e-01,\n",
       "         9.18918919e-01, 3.15789474e-01, 1.37500000e+00, 5.31250000e-01,\n",
       "         8.86075949e-01, 3.33333333e-01],\n",
       "        [2.33333333e+00, 6.04651163e-01, 1.41176471e+00, 1.18750000e+00,\n",
       "         3.89830508e-01, 1.80000000e-01, 5.68181818e-02, 8.00000000e-01,\n",
       "         2.40000000e+01, 7.69230769e-01],\n",
       "        [1.27631579e+00, 1.62790698e-01, 1.20481928e-02, 1.29629630e+00,\n",
       "         5.10204082e-01, 9.45652174e-01, 2.70000000e+00, 5.00000000e+00,\n",
       "         6.22222222e-01, 9.52380952e-02],\n",
       "        [2.56250000e+00, 0.00000000e+00, 4.10000000e+00, 8.57142857e-01,\n",
       "         2.26415094e-01, 8.88888889e-01, 4.00000000e-01, 6.45833333e-01,\n",
       "         1.42028986e+00, 2.00000000e+00],\n",
       "        [2.03333333e+01, 7.31182796e-01, 1.10000000e+00, 8.00000000e+00,\n",
       "         1.70270270e+00, 9.57894737e-01, 5.00000000e+00, 2.04081633e-02,\n",
       "         3.33333333e-01, 6.36363636e-01],\n",
       "        [9.09090909e-02, 8.24742268e-02, 5.16666667e+00, 9.45945946e-01,\n",
       "         9.48275862e-01, 1.19736842e+00, 2.65306122e-01, 9.33333333e-01,\n",
       "         2.00000000e+00, 3.71428571e-01],\n",
       "        [1.97727273e+00, 5.31645570e-01, 1.86538462e+00, 8.28947368e-01,\n",
       "         1.22000000e+01, 5.88235294e-02, 9.89690722e-01, 1.08888889e+01,\n",
       "         4.61538462e-01, 7.10000000e+01],\n",
       "        [9.22222222e+00, 6.04651163e-01, 1.05882353e+00, 1.20481928e-02,\n",
       "         8.96551724e-01, 8.63636364e+00, 2.00000000e+00, 1.96000000e+00,\n",
       "         2.19178082e-01, 5.05050505e-02],\n",
       "        [9.68085106e-01, 1.23943662e+00, 7.43902439e-01, 1.52173913e+00,\n",
       "         2.00000000e+00, 9.55056180e-01, 3.63636364e-01, 2.25000000e-01,\n",
       "         5.20547945e-01, 3.20987654e-01]]))"
      ]
     },
     "execution_count": 177,
     "metadata": {},
     "output_type": "execute_result"
    }
   ],
   "source": [
    "a = np.random.randint(0,100,size=(10,10))\n",
    "b = np.random.randint(1,100,size=(10,10))\n",
    "sub = np.subtract(a , b)\n",
    "summ = np.add(a,b)\n",
    "mul = np.multiply(a,b)\n",
    "div = np.divide(a,b)\n",
    "a , b , sub, summ, mul, div"
   ]
  },
  {
   "cell_type": "markdown",
   "metadata": {
    "id": "F737U7-wMrzy"
   },
   "source": [
    "max values of columns"
   ]
  },
  {
   "cell_type": "code",
   "execution_count": 180,
   "metadata": {
    "id": "LT4D4yjwxl5i"
   },
   "outputs": [
    {
     "name": "stdout",
     "output_type": "stream",
     "text": [
      "[[45 82  9  2 31 96 23 77 17 75]\n",
      " [86 49 59 69 90 80  5 10 82 12]\n",
      " [54 54 76 60  1 23 97 41  3 53]\n",
      " [61 32 69 97 29 64 73 92 59 24]\n",
      " [ 4 31 45 12 70 40 27 79 10 16]\n",
      " [57 78 26 69  1 35 48 17 93 47]\n",
      " [73 78 45 34 34 23 31 17 80 97]\n",
      " [82 42 86  3 44 47 41 50 57 13]\n",
      " [ 1 12 10 60 46 83 92 48  5 78]\n",
      " [82 15 24  0 85 33 31 55 55 83]]\n",
      "[96, 90, 97, 97, 79, 93, 97, 86, 92, 85]\n"
     ]
    }
   ],
   "source": [
    "a = np.random.randint(0,100,size=(10,10))\n",
    "print(a)\n",
    "#max of each column in an array\n",
    "b = [np.max(row) for row in a]\n",
    "print(b)"
   ]
  },
  {
   "cell_type": "markdown",
   "metadata": {
    "id": "5ml1jabtKASF"
   },
   "source": [
    "check array similarity using allclose function"
   ]
  },
  {
   "cell_type": "code",
   "execution_count": 182,
   "metadata": {
    "id": "2SwYmQYYxmkk"
   },
   "outputs": [
    {
     "name": "stdout",
     "output_type": "stream",
     "text": [
      "[[30 77 14 94 33 77 62 72 69 47]\n",
      " [98 48 25 29 96 72 24 94 18 68]\n",
      " [28 34 79 59 32 90 22 69 70 18]\n",
      " [65 16 25 69  2 85 39  8 39 64]\n",
      " [39 92 19 15 63 31 40 90 22 96]\n",
      " [34 28  4 52 32 95 39 11 64 25]\n",
      " [82 46 72 49 45 21 21 34 98 49]\n",
      " [66 56 34 66 28 91 34 97  6  2]\n",
      " [37 42 95 53 69 83 61 17 48 39]\n",
      " [83 28 52 60 84 76 90 80 52 14]]\n",
      "[[30.00000055 77.00000041 14.00000093 94.00000054 33.00000051 77.00000088\n",
      "  62.0000005  72.00000092 69.00000095 47.00000047]\n",
      " [98.00000032 48.00000015 25.00000017 29.00000037 96.00000057 72.0000002\n",
      "  24.00000098 94.00000088 18.00000084 68.00000035]\n",
      " [28.00000062 34.00000053 79.0000008  59.00000041 32.00000099 90.00000033\n",
      "  22.00000055 69.00000042 70.00000074 18.00000093]\n",
      " [65.0000009  16.00000006 25.00000033 69.00000041  2.00000011 85.00000032\n",
      "  39.00000024  8.00000087 39.00000092 64.00000024]\n",
      " [39.00000074 92.00000025 19.00000098 15.00000079 63.00000013 31.00000014\n",
      "  40.00000085 90.00000012 22.00000039 96.00000049]\n",
      " [34.00000079 28.00000026  4.00000045 52.00000048 32.0000007  95.00000002\n",
      "  39.00000035 11.00000011 64.00000092 25.00000095]\n",
      " [82.00000001 46.00000087 72.00000003 49.00000015 45.00000066 21.00000092\n",
      "  21.00000024 34.00000025 98.00000012 49.00000072]\n",
      " [66.00000067 56.0000005  34.00000084 66.00000088 28.00000023 91.00000031\n",
      "  34.00000048 97.00000053  6.00000008  2.0000005 ]\n",
      " [37.00000024 42.00000054 95.0000007  53.00000081 69.00000049 83.00000096\n",
      "  61.00000018 17.00000044 48.00000033 39.00000034]\n",
      " [83.00000008 28.00000015 52.00000051 60.00000043 84.00000071 76.00000048\n",
      "  90.0000009  80.00000035 52.00000015 14.00000092]]\n"
     ]
    },
    {
     "data": {
      "text/plain": [
       "True"
      ]
     },
     "execution_count": 182,
     "metadata": {},
     "output_type": "execute_result"
    }
   ],
   "source": [
    "a = np.random.randint(0,100,size=(10,10))\n",
    "print(a)\n",
    "b = a + np.random.rand(10,10) * 1e-6\n",
    "print(b)\n",
    "# if two matrix have closer values than a threshold return true  \n",
    "c = np.allclose(a , b , 1e-2)\n",
    "c"
   ]
  },
  {
   "cell_type": "markdown",
   "metadata": {
    "id": "EWuqFYubKR1C"
   },
   "source": [
    "matrix multiplication"
   ]
  },
  {
   "cell_type": "code",
   "execution_count": 5,
   "metadata": {
    "id": "Qu6RODaCxnQ3"
   },
   "outputs": [
    {
     "name": "stdout",
     "output_type": "stream",
     "text": [
      "[[15700 22416 22390 18951 14089 22217  7015 23933 25626 13620]\n",
      " [21725 31396 28963 23148 19181 34735 15704 26980 34325 17568]\n",
      " [22830 32551 28075 22060 24170 33214 14949 30040 30797 21983]\n",
      " [12816 16382 16426 13273 13275 15957  2969 21321 20057 11323]\n",
      " [18508 25309 22795 22413 20180 28262 13773 22187 20591 10212]\n",
      " [10230 13326 18491 12135  8877 17675  5142 11841 20545 11448]]\n",
      "(6, 10)\n",
      "<class 'numpy.ndarray'>\n",
      "[[15700 22416 22390 18951 14089 22217  7015 23933 25626 13620]\n",
      " [21725 31396 28963 23148 19181 34735 15704 26980 34325 17568]\n",
      " [22830 32551 28075 22060 24170 33214 14949 30040 30797 21983]\n",
      " [12816 16382 16426 13273 13275 15957  2969 21321 20057 11323]\n",
      " [18508 25309 22795 22413 20180 28262 13773 22187 20591 10212]\n",
      " [10230 13326 18491 12135  8877 17675  5142 11841 20545 11448]]\n",
      "(6, 10)\n",
      "<class 'numpy.ndarray'>\n"
     ]
    }
   ],
   "source": [
    "a = np.random.randint(0,100,size=(6,8))\n",
    "b = np.random.randint(0,100,size=(8,10))\n",
    "# return A x B and it's shape\n",
    "c = np.dot(a,b)\n",
    "print(c)\n",
    "print(c.shape)\n",
    "print(type(c))\n",
    "\n",
    "c = a@b\n",
    "print(c)\n",
    "print(c.shape)\n",
    "print(type(c))"
   ]
  },
  {
   "cell_type": "markdown",
   "metadata": {
    "id": "8_-UxF3uR4PB"
   },
   "source": [
    "compute rank of matrix using numpy.linalg"
   ]
  },
  {
   "cell_type": "code",
   "execution_count": 186,
   "metadata": {
    "id": "RlnPrkimR3ea"
   },
   "outputs": [
    {
     "data": {
      "text/plain": [
       "6"
      ]
     },
     "execution_count": 186,
     "metadata": {},
     "output_type": "execute_result"
    }
   ],
   "source": [
    "a = np.random.randint(0,100,size=(6,8))\n",
    "np.linalg.matrix_rank(a)"
   ]
  },
  {
   "cell_type": "markdown",
   "metadata": {
    "id": "RikohpbBSFur"
   },
   "source": [
    "compute matrix norm using numpy.linalg"
   ]
  },
  {
   "cell_type": "code",
   "execution_count": 187,
   "metadata": {
    "id": "8yT0hbN1USKS"
   },
   "outputs": [
    {
     "data": {
      "text/plain": [
       "397.003778319552"
      ]
     },
     "execution_count": 187,
     "metadata": {},
     "output_type": "execute_result"
    }
   ],
   "source": [
    "a = np.random.randint(0,100,size=(6,8))\n",
    "np.linalg.norm(a)"
   ]
  },
  {
   "cell_type": "markdown",
   "metadata": {
    "id": "gAMimwjvTgya"
   },
   "source": [
    "compute matrix inverse using numpy.linalg"
   ]
  },
  {
   "cell_type": "code",
   "execution_count": 188,
   "metadata": {
    "id": "kSPatz7nUrGh"
   },
   "outputs": [
    {
     "data": {
      "text/plain": [
       "array([[-0.00265489,  0.04499903, -0.02456606,  0.02519852, -0.02713322,\n",
       "        -0.02218233,  0.00252206,  0.01453798],\n",
       "       [ 0.00592221, -0.02717149,  0.04675972, -0.04152882,  0.02333931,\n",
       "        -0.00272753, -0.00873349,  0.00397807],\n",
       "       [-0.00252055,  0.00056469, -0.03372574,  0.0331677 , -0.0154771 ,\n",
       "         0.01518707,  0.00823143, -0.004222  ],\n",
       "       [ 0.00217215,  0.03332401, -0.06658155,  0.06618358, -0.01864919,\n",
       "        -0.00691455,  0.00785182, -0.00267633],\n",
       "       [ 0.0011945 ,  0.01081419, -0.00762565,  0.00227183,  0.00033399,\n",
       "        -0.01648267,  0.01003684,  0.00693714],\n",
       "       [ 0.01186308, -0.04539308,  0.06267442, -0.06269697,  0.02623276,\n",
       "         0.01737678, -0.00744324, -0.01003482],\n",
       "       [-0.00271832, -0.01459248,  0.03614412, -0.04861858,  0.01232101,\n",
       "         0.00739628, -0.00945369,  0.01368565],\n",
       "       [-0.00450073, -0.00858332,  0.01298406, -0.0029218 ,  0.01252941,\n",
       "         0.00561196, -0.00204928, -0.01392101]])"
      ]
     },
     "execution_count": 188,
     "metadata": {},
     "output_type": "execute_result"
    }
   ],
   "source": [
    "a = np.random.randint(0,100,size=(8,8))\n",
    "np.linalg.inv(a)"
   ]
  }
 ],
 "metadata": {
  "colab": {
   "collapsed_sections": [],
   "name": "numpy.ipynb",
   "provenance": []
  },
  "kernelspec": {
   "display_name": "Python 3 (ipykernel)",
   "language": "python",
   "name": "python3"
  },
  "language_info": {
   "codemirror_mode": {
    "name": "ipython",
    "version": 3
   },
   "file_extension": ".py",
   "mimetype": "text/x-python",
   "name": "python",
   "nbconvert_exporter": "python",
   "pygments_lexer": "ipython3",
   "version": "3.8.10"
  }
 },
 "nbformat": 4,
 "nbformat_minor": 1
}
